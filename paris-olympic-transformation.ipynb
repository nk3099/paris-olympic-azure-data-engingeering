{
 "cells": [
  {
   "cell_type": "code",
   "execution_count": 0,
   "metadata": {
    "application/vnd.databricks.v1+cell": {
     "cellMetadata": {
      "byteLimit": 2048000,
      "rowLimit": 10000
     },
     "inputWidgets": {},
     "nuid": "b1ca3327-41a8-4b2e-a52c-9f47142ba1ef",
     "showTitle": false,
     "title": ""
    }
   },
   "outputs": [],
   "source": [
    "from pyspark.sql.functions import col, count\n",
    "from pyspark.sql.types import IntegerType, DoubleType, BooleanType, DateType"
   ]
  },
  {
   "cell_type": "code",
   "execution_count": 0,
   "metadata": {
    "application/vnd.databricks.v1+cell": {
     "cellMetadata": {
      "byteLimit": 2048000,
      "rowLimit": 10000
     },
     "inputWidgets": {},
     "nuid": "4b82d7e7-35af-4a0f-b1ea-f21e4d9ea86d",
     "showTitle": false,
     "title": ""
    }
   },
   "outputs": [],
   "source": [
    "configs={\"fs.azure.account.auth.type\":\"OAuth\",\n",
    "\"fs.azure.account.oauth.provider.type\":\"org.apache.hadoop.fs.azurebfs.oauth2.ClientCredsTokenProvider\",\n",
    "# Application (client) ID / Service Prinicipal Id\n",
    "\"fs.azure.account.oauth2.client.id\":\"e25ebcf7-95b4-40d7-bd5b-36128bae2693\",\n",
    "# Secret ID\n",
    "\"fs.azure.account.oauth2.client.secret\":dbutils.secrets.get(scope=\"paris-olympic-scope\",key=\"paris-olympic-app-secretkey-in-scope\"),\n",
    "#Directory (tenant) ID of Service Principal\n",
    "\"fs.azure.account.oauth2.client.endpoint\":\"https://login.microsoftonline.com/f4690ab4-a188-40aa-8bd8-b06bbd1cef70/oauth2/token\"}"
   ]
  },
  {
   "cell_type": "code",
   "execution_count": 0,
   "metadata": {
    "application/vnd.databricks.v1+cell": {
     "cellMetadata": {
      "byteLimit": 2048000,
      "rowLimit": 10000
     },
     "inputWidgets": {},
     "nuid": "b2193553-a187-43fa-87b0-03352a726776",
     "showTitle": false,
     "title": ""
    }
   },
   "outputs": [
    {
     "output_type": "execute_result",
     "data": {
      "text/plain": [
       "True"
      ]
     },
     "execution_count": 9,
     "metadata": {},
     "output_type": "execute_result"
    }
   ],
   "source": [
    "dbutils.fs.mount(\n",
    "    source=\"abfss://paris-olympic-data@parisolympic.dfs.core.windows.net\",  #container@storageaccount\n",
    "    mount_point=\"/mnt/parisolympic\",\n",
    "    extra_configs=configs\n",
    ")"
   ]
  },
  {
   "cell_type": "code",
   "execution_count": 0,
   "metadata": {
    "application/vnd.databricks.v1+cell": {
     "cellMetadata": {
      "byteLimit": 2048000,
      "rowLimit": 10000
     },
     "inputWidgets": {},
     "nuid": "d9eae864-d018-4ed4-b698-d0957cce2579",
     "showTitle": false,
     "title": ""
    }
   },
   "outputs": [
    {
     "output_type": "display_data",
     "data": {
      "text/html": [
       "<style scoped>\n",
       "  .table-result-container {\n",
       "    max-height: 300px;\n",
       "    overflow: auto;\n",
       "  }\n",
       "  table, th, td {\n",
       "    border: 1px solid black;\n",
       "    border-collapse: collapse;\n",
       "  }\n",
       "  th, td {\n",
       "    padding: 5px;\n",
       "  }\n",
       "  th {\n",
       "    text-align: left;\n",
       "  }\n",
       "</style><div class='table-result-container'><table class='table-result'><thead style='background-color: white'><tr><th>path</th><th>name</th><th>size</th><th>modificationTime</th></tr></thead><tbody><tr><td>dbfs:/mnt/parisolympic/raw-data/</td><td>raw-data/</td><td>0</td><td>1729229922000</td></tr><tr><td>dbfs:/mnt/parisolympic/transformed-data/</td><td>transformed-data/</td><td>0</td><td>1729229935000</td></tr></tbody></table></div>"
      ]
     },
     "metadata": {
      "application/vnd.databricks.v1+output": {
       "addedWidgets": {},
       "aggData": [],
       "aggError": "",
       "aggOverflow": false,
       "aggSchema": [],
       "aggSeriesLimitReached": false,
       "aggType": "",
       "arguments": {},
       "columnCustomDisplayInfos": {},
       "data": [
        [
         "dbfs:/mnt/parisolympic/raw-data/",
         "raw-data/",
         0,
         1729229922000
        ],
        [
         "dbfs:/mnt/parisolympic/transformed-data/",
         "transformed-data/",
         0,
         1729229935000
        ]
       ],
       "datasetInfos": [],
       "dbfsResultPath": null,
       "isJsonSchema": true,
       "metadata": {
        "isDbfsCommandResult": false
       },
       "overflow": false,
       "plotOptions": {
        "customPlotOptions": {},
        "displayType": "table",
        "pivotAggregation": null,
        "pivotColumns": null,
        "xColumns": null,
        "yColumns": null
       },
       "removedWidgets": [],
       "schema": [
        {
         "metadata": "{}",
         "name": "path",
         "type": "\"string\""
        },
        {
         "metadata": "{}",
         "name": "name",
         "type": "\"string\""
        },
        {
         "metadata": "{}",
         "name": "size",
         "type": "\"long\""
        },
        {
         "metadata": "{}",
         "name": "modificationTime",
         "type": "\"long\""
        }
       ],
       "type": "table"
      }
     },
     "output_type": "display_data"
    }
   ],
   "source": [
    "%fs ls \"/mnt/parisolympic\""
   ]
  },
  {
   "cell_type": "code",
   "execution_count": 0,
   "metadata": {
    "application/vnd.databricks.v1+cell": {
     "cellMetadata": {
      "byteLimit": 2048000,
      "rowLimit": 10000
     },
     "inputWidgets": {},
     "nuid": "5897002a-c2e0-4856-a3e6-ea48c6a54c3e",
     "showTitle": false,
     "title": ""
    }
   },
   "outputs": [
    {
     "output_type": "execute_result",
     "data": {
      "text/plain": [
       "[FileInfo(path='dbfs:/mnt/parisolympic/raw-data/', name='raw-data/', size=0, modificationTime=1729229922000),\n",
       " FileInfo(path='dbfs:/mnt/parisolympic/transformed-data/', name='transformed-data/', size=0, modificationTime=1729229935000)]"
      ]
     },
     "execution_count": 10,
     "metadata": {},
     "output_type": "execute_result"
    }
   ],
   "source": [
    "dbutils.fs.ls(\"/mnt/parisolympic\")"
   ]
  },
  {
   "cell_type": "code",
   "execution_count": 0,
   "metadata": {
    "application/vnd.databricks.v1+cell": {
     "cellMetadata": {
      "byteLimit": 2048000,
      "rowLimit": 10000
     },
     "inputWidgets": {},
     "nuid": "5a145894-4366-4a6f-8361-d7dfc5f5a170",
     "showTitle": false,
     "title": ""
    }
   },
   "outputs": [
    {
     "output_type": "execute_result",
     "data": {
      "text/html": [
       "\n",
       "            <div>\n",
       "                <p><b>SparkSession - hive</b></p>\n",
       "                \n",
       "        <div>\n",
       "            <p><b>SparkContext</b></p>\n",
       "\n",
       "            <p><a href=\"/?o=4121611371365301#setting/sparkui/1018-085435-7iww5lfs/driver-1157410824561368537\">Spark UI</a></p>\n",
       "\n",
       "            <dl>\n",
       "              <dt>Version</dt>\n",
       "                <dd><code>v3.5.0</code></dd>\n",
       "              <dt>Master</dt>\n",
       "                <dd><code>local[*, 4]</code></dd>\n",
       "              <dt>AppName</dt>\n",
       "                <dd><code>Databricks Shell</code></dd>\n",
       "            </dl>\n",
       "        </div>\n",
       "        \n",
       "            </div>\n",
       "        "
      ],
      "text/plain": [
       "<pyspark.sql.session.SparkSession at 0x7f91d47ab8d0>"
      ]
     },
     "execution_count": 11,
     "metadata": {},
     "output_type": "execute_result"
    }
   ],
   "source": [
    "spark"
   ]
  },
  {
   "cell_type": "code",
   "execution_count": 0,
   "metadata": {
    "application/vnd.databricks.v1+cell": {
     "cellMetadata": {
      "byteLimit": 2048000,
      "rowLimit": 10000
     },
     "inputWidgets": {},
     "nuid": "25e3fcc7-510e-45df-9db2-58d94e7241d8",
     "showTitle": false,
     "title": ""
    }
   },
   "outputs": [],
   "source": [
    "athletes = spark.read.format(\"csv\").option(\"header\",\"true\").load(\"/mnt/parisolympic/raw-data/athletes.csv\")\n",
    "\n",
    "coaches = spark.read.format(\"csv\").option(\"header\",\"true\").option(\"inferSchema\",\"true\").load(\"/mnt/parisolympic/raw-data/coaches.csv\")\n",
    "medals = spark.read.format(\"csv\").option(\"header\",\"true\").option(\"inferSchema\",\"true\").load(\"/mnt/parisolympic/raw-data/medals.csv\")\n",
    "teams = spark.read.format(\"csv\").option(\"header\",\"true\").option(\"inferSchema\",\"true\").load(\"/mnt/parisolympic/raw-data/teams.csv\")\n"
   ]
  },
  {
   "cell_type": "code",
   "execution_count": 0,
   "metadata": {
    "application/vnd.databricks.v1+cell": {
     "cellMetadata": {
      "byteLimit": 2048000,
      "rowLimit": 10000
     },
     "inputWidgets": {},
     "nuid": "d23f1562-2c3b-4276-a5f6-48b169d90e55",
     "showTitle": false,
     "title": ""
    }
   },
   "outputs": [
    {
     "output_type": "execute_result",
     "data": {
      "text/plain": [
       "[Row(code='1532872', current='True', name='ALEKSANYAN Artur', name_short='ALEKSANYAN A', name_tv='Artur ALEKSANYAN', gender='Male', function='Athlete', country_code='ARM', country='Armenia', country_long='Armenia', nationality='Armenia', nationality_long='Armenia', nationality_code='ARM', height='0.0', weight='0.0', disciplines=\"['Wrestling']\", events='\"[\"\"Men\\'s Greco-Roman 97kg\"\"]\"', birth_date='1991-10-21', birth_place='GYUMRI', birth_country='Armenia', residence_place='GYUMRI', residence_country='Armenia', nickname='White Bear', hobbies='Playing and watching football', occupation='Athlete', education='Graduated from Shirak State University (Gyumri, ARM)', family='Father, Gevorg Aleksanyan', lang='Armenian, English, Russian', coach='Gevorg Aleksanyan (ARM), father', reason='He followed his father and his uncle into the sport', hero='Footballer Zinedine Zidane (FRA), World Cup winner (1998) and European champion (2000) with France, won the Champions League as a player and three times as a manager with Real Madrid, three-time FIFA World Player of the Year', influence='His father, Gevorg Aleksanyan', philosophy='\"\"\"Wrestling is my life.\"\" (mediamax.am. 18 May 2016)\"', sporting_relatives=None, ritual=None, other_sports=None),\n",
       " Row(code='1532873', current='True', name='AMOYAN Malkhas', name_short='AMOYAN M', name_tv='Malkhas AMOYAN', gender='Male', function='Athlete', country_code='ARM', country='Armenia', country_long='Armenia', nationality='Armenia', nationality_long='Armenia', nationality_code='ARM', height='0.0', weight='0.0', disciplines=\"['Wrestling']\", events='\"[\"\"Men\\'s Greco-Roman 77kg\"\"]\"', birth_date='1999-01-22', birth_place='YEREVAN', birth_country='Armenia', residence_place='YEREVAN', residence_country='Armenia', nickname=None, hobbies=None, occupation=None, education=None, family=None, lang='Armenian', coach=None, reason=None, hero=None, influence=None, philosophy='\"\"\"To become a good athlete', sporting_relatives=' you first have to be a good person.\"\" (ankakh.com', ritual=' 6 Oct 2018)\"', other_sports='Uncle, Roman Amoyan (wrestling), 2008 Olympic bronze medallist and two-time European champion in Greco-Roman'),\n",
       " Row(code='1532874', current='True', name='GALSTYAN Slavik', name_short='GALSTYAN S', name_tv='Slavik GALSTYAN', gender='Male', function='Athlete', country_code='ARM', country='Armenia', country_long='Armenia', nationality='Armenia', nationality_long='Armenia', nationality_code='ARM', height='0.0', weight='0.0', disciplines=\"['Wrestling']\", events='\"[\"\"Men\\'s Greco-Roman 67kg\"\"]\"', birth_date='1996-12-21', birth_place=None, birth_country=None, residence_place='YEREVAN', residence_country='Armenia', nickname=None, hobbies=None, occupation=None, education=None, family=None, lang='Armenian', coach='Personal: Martin Alekhanyan (ARM).<br>National: Armen Babalaryan (ARM)', reason=None, hero=None, influence=None, philosophy=None, sporting_relatives=None, ritual=None, other_sports=None),\n",
       " Row(code='1532944', current='True', name='HARUTYUNYAN Arsen', name_short='HARUTYUNYAN A', name_tv='Arsen HARUTYUNYAN', gender='Male', function='Athlete', country_code='ARM', country='Armenia', country_long='Armenia', nationality='Armenia', nationality_long='Armenia', nationality_code='ARM', height='0.0', weight='0.0', disciplines=\"['Wrestling']\", events='\"[\"\"Men\\'s Freestyle 57kg\"\"]\"', birth_date='1999-11-22', birth_place='MASIS', birth_country='Armenia', residence_place='YEREVAN', residence_country='Armenia', nickname=None, hobbies=None, occupation='Athlete', education=\"Graduated with a Master's degree from the Armenian State Institute of Physical Culture and Sport (2023)\", family='Wife, Diana (married October 2022). Daughter, Marias (born 2023)', lang='Armenian', coach='National: Habetnak Kurghinyan', reason='While doing karate he noticed wrestlers training and decided to give it a try. He also tried judo but his father, a former wrestler, did not allow him to do both, so he chose wrestling. (sport.mediamax.am, 10 July 2017)', hero='Wrestler Armen Nazaryan (ARM, BUL), two-time Olympic champion (1996, 2000) and 2004 bronze medallist. Eight-time world championship medallist (three gold, two silver, three bronze)', influence=None, philosophy='“Nothing is impossible, set goals in front of you, fight and achieve it.” (Instagram, 13 May 2023)', sporting_relatives=None, ritual=None, other_sports=None),\n",
       " Row(code='1532945', current='True', name='TEVANYAN Vazgen', name_short='TEVANYAN V', name_tv='Vazgen TEVANYAN', gender='Male', function='Athlete', country_code='ARM', country='Armenia', country_long='Armenia', nationality='Armenia', nationality_long='Armenia', nationality_code='ARM', height='0.0', weight='0.0', disciplines=\"['Wrestling']\", events='\"[\"\"Men\\'s Freestyle 65kg\"\"]\"', birth_date='1999-10-27', birth_place='POKR VEDI', birth_country='Armenia', residence_place=None, residence_country='Armenia', nickname=None, hobbies=None, occupation='Athlete', education='Studied at the Armenian State Institute of Physical Culture and Sport (Yerevan, ARM)', family='Wife, Sona (married November 2023)', lang='Armenian, Russian', coach='National: Habetnak Kurghinyan (ARM)', reason='“My family did not like wrestling very much. At first I wanted to do boxing but my older friends advised me to go to wrestling training, and after a week, I started to like the sport.” (myInfo)', hero=None, influence=None, philosophy=None, sporting_relatives=None, ritual=None, other_sports=None)]"
      ]
     },
     "execution_count": 13,
     "metadata": {},
     "output_type": "execute_result"
    }
   ],
   "source": [
    "athletes.head(5)"
   ]
  },
  {
   "cell_type": "code",
   "execution_count": 0,
   "metadata": {
    "application/vnd.databricks.v1+cell": {
     "cellMetadata": {},
     "inputWidgets": {},
     "nuid": "f9978685-7c3a-44a3-a91f-78e80d5222a0",
     "showTitle": false,
     "title": ""
    }
   },
   "outputs": [],
   "source": [
    "athletes.printSchema()"
   ]
  },
  {
   "cell_type": "code",
   "execution_count": 0,
   "metadata": {
    "application/vnd.databricks.v1+cell": {
     "cellMetadata": {
      "byteLimit": 2048000,
      "rowLimit": 10000
     },
     "inputWidgets": {},
     "nuid": "2c303e6c-5249-4319-aa67-9990b7c7199a",
     "showTitle": false,
     "title": ""
    }
   },
   "outputs": [],
   "source": [
    "athletes = athletes.withColumn(\"code\", col(\"code\").cast(IntegerType())) \\\n",
    "                   .withColumn(\"height\", col(\"height\").cast(\"integer\")) \\\n",
    "                   .withColumn(\"weight\", col(\"weight\").cast(IntegerType()))"
   ]
  },
  {
   "cell_type": "code",
   "execution_count": 0,
   "metadata": {
    "application/vnd.databricks.v1+cell": {
     "cellMetadata": {
      "byteLimit": 2048000,
      "rowLimit": 10000
     },
     "inputWidgets": {},
     "nuid": "212aba7c-79c9-4b1e-a4df-ebb3032db7c4",
     "showTitle": false,
     "title": ""
    }
   },
   "outputs": [
    {
     "output_type": "stream",
     "name": "stdout",
     "output_type": "stream",
     "text": [
      "+-------------+----------------+\n|      country|gold_medal_count|\n+-------------+----------------+\n|        China|              40|\n|United States|              40|\n|        Japan|              20|\n|    Australia|              18|\n|       France|              16|\n|  Netherlands|              15|\n|Great Britain|              14|\n|        Korea|              13|\n|      Germany|              12|\n|        Italy|              12|\n|  New Zealand|              10|\n|       Canada|               9|\n|   Uzbekistan|               8|\n|      Hungary|               6|\n|        Spain|               5|\n|       Sweden|               4|\n|       Norway|               4|\n|        Kenya|               4|\n|      Ireland|               4|\n|      Czechia|               3|\n+-------------+----------------+\nonly showing top 20 rows\n\n"
     ]
    }
   ],
   "source": [
    "#Find the top countries with highesht number of gold medals\n",
    "\n",
    "top_gold_medal_countries = medals.filter(col(\"medal_type\")==\"Gold Medal\") \\\n",
    "                                 .groupBy(\"country\").agg(count(\"medal_type\").alias(\"gold_medal_count\")) \\\n",
    "                                 .orderBy(\"gold_medal_count\",ascending=False).show()"
   ]
  },
  {
   "cell_type": "code",
   "execution_count": 0,
   "metadata": {
    "application/vnd.databricks.v1+cell": {
     "cellMetadata": {
      "byteLimit": 2048000,
      "rowLimit": 10000
     },
     "inputWidgets": {},
     "nuid": "84c0dc00-4464-410b-86eb-74ee4dcf1763",
     "showTitle": false,
     "title": ""
    }
   },
   "outputs": [
    {
     "output_type": "stream",
     "name": "stdout",
     "output_type": "stream",
     "text": [
      "+-------------+------------------+\n|      country|silver_medal_count|\n+-------------+------------------+\n|United States|                44|\n|        China|                27|\n|       France|                26|\n|Great Britain|                22|\n|    Australia|                19|\n|        Italy|                13|\n|      Germany|                13|\n|        Japan|                12|\n|        Korea|                 9|\n|      Hungary|                 7|\n|       Brazil|                 7|\n|       Canada|                 7|\n|  New Zealand|                 7|\n|  Netherlands|                 7|\n|      IR Iran|                 6|\n|       Israel|                 5|\n|      Ukraine|                 5|\n|       Sweden|                 4|\n|       Poland|                 4|\n|        Spain|                 4|\n+-------------+------------------+\nonly showing top 20 rows\n\n"
     ]
    }
   ],
   "source": [
    "#Find the top countries with highesht number of silver medals\n",
    "\n",
    "top_silver_medal_countries = medals.filter(col(\"medal_type\").contains(\"Silver\")) \\\n",
    "                                 .groupBy(\"country\").agg(count(\"medal_type\").alias(\"silver_medal_count\")) \\\n",
    "                                 .orderBy(\"silver_medal_count\",ascending=False).show()"
   ]
  },
  {
   "cell_type": "code",
   "execution_count": 0,
   "metadata": {
    "application/vnd.databricks.v1+cell": {
     "cellMetadata": {
      "byteLimit": 2048000,
      "rowLimit": 10000
     },
     "inputWidgets": {},
     "nuid": "103f6dfa-58be-4a2e-afac-399cc3a90fd8",
     "showTitle": false,
     "title": ""
    }
   },
   "outputs": [],
   "source": [
    "athletes.repartition(1).write.mode(\"overwrite\").option(\"header\",\"true\").csv(\"/mnt/parisolympic/transformed-data/athletes\")"
   ]
  },
  {
   "cell_type": "code",
   "execution_count": 0,
   "metadata": {
    "application/vnd.databricks.v1+cell": {
     "cellMetadata": {
      "byteLimit": 2048000,
      "rowLimit": 10000
     },
     "inputWidgets": {},
     "nuid": "ea60ae76-466c-4fb5-9ec8-498928110a12",
     "showTitle": false,
     "title": ""
    }
   },
   "outputs": [],
   "source": [
    "coaches.repartition(1).write.mode(\"overwrite\").option(\"header\",\"true\").csv(\"/mnt/parisolympic/transformed-data/coaches\")\n",
    "medals.repartition(1).write.mode(\"overwrite\").option(\"header\",\"true\").csv(\"/mnt/parisolympic/transformed-data/medals\")\n",
    "teams.repartition(1).write.mode(\"overwrite\").option(\"header\",\"true\").csv(\"/mnt/parisolympic/transformed-data/teams\")"
   ]
  }
 ],
 "metadata": {
  "application/vnd.databricks.v1+notebook": {
   "dashboards": [],
   "environmentMetadata": {
    "base_environment": "",
    "client": "1"
   },
   "language": "python",
   "notebookMetadata": {
    "mostRecentlyExecutedCommandWithImplicitDF": {
     "commandId": 3546018557549934,
     "dataframes": [
      "_sqldf"
     ]
    },
    "pythonIndentUnit": 4
   },
   "notebookName": "paris-olympic-transformation",
   "widgets": {}
  }
 },
 "nbformat": 4,
 "nbformat_minor": 0
}
